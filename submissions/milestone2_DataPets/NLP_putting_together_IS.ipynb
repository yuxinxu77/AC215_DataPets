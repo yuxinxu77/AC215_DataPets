{
  "nbformat": 4,
  "nbformat_minor": 0,
  "metadata": {
    "colab": {
      "name": "NLP_putting_together_IS.ipynb",
      "provenance": [],
      "machine_shape": "hm"
    },
    "kernelspec": {
      "name": "python3",
      "display_name": "Python 3"
    },
    "language_info": {
      "name": "python"
    }
  },
  "cells": [
    {
      "cell_type": "markdown",
      "metadata": {
        "id": "Syk04Ofs8ef_"
      },
      "source": [
        "# Installs and Imports"
      ]
    },
    {
      "cell_type": "code",
      "metadata": {
        "colab": {
          "base_uri": "https://localhost:8080/"
        },
        "id": "WM2AHmyp7Kjk",
        "outputId": "cc854175-005a-4254-bf65-be8f1ffc3f9c"
      },
      "source": [
        "!pip install transformers"
      ],
      "execution_count": null,
      "outputs": [
        {
          "output_type": "stream",
          "name": "stdout",
          "text": [
            "Requirement already satisfied: transformers in /usr/local/lib/python3.7/dist-packages (4.11.3)\n",
            "Requirement already satisfied: numpy>=1.17 in /usr/local/lib/python3.7/dist-packages (from transformers) (1.19.5)\n",
            "Requirement already satisfied: importlib-metadata in /usr/local/lib/python3.7/dist-packages (from transformers) (4.8.1)\n",
            "Requirement already satisfied: huggingface-hub>=0.0.17 in /usr/local/lib/python3.7/dist-packages (from transformers) (0.0.19)\n",
            "Requirement already satisfied: tqdm>=4.27 in /usr/local/lib/python3.7/dist-packages (from transformers) (4.62.3)\n",
            "Requirement already satisfied: pyyaml>=5.1 in /usr/local/lib/python3.7/dist-packages (from transformers) (6.0)\n",
            "Requirement already satisfied: regex!=2019.12.17 in /usr/local/lib/python3.7/dist-packages (from transformers) (2019.12.20)\n",
            "Requirement already satisfied: requests in /usr/local/lib/python3.7/dist-packages (from transformers) (2.23.0)\n",
            "Requirement already satisfied: sacremoses in /usr/local/lib/python3.7/dist-packages (from transformers) (0.0.46)\n",
            "Requirement already satisfied: tokenizers<0.11,>=0.10.1 in /usr/local/lib/python3.7/dist-packages (from transformers) (0.10.3)\n",
            "Requirement already satisfied: filelock in /usr/local/lib/python3.7/dist-packages (from transformers) (3.3.0)\n",
            "Requirement already satisfied: packaging>=20.0 in /usr/local/lib/python3.7/dist-packages (from transformers) (21.0)\n",
            "Requirement already satisfied: typing-extensions in /usr/local/lib/python3.7/dist-packages (from huggingface-hub>=0.0.17->transformers) (3.7.4.3)\n",
            "Requirement already satisfied: pyparsing>=2.0.2 in /usr/local/lib/python3.7/dist-packages (from packaging>=20.0->transformers) (2.4.7)\n",
            "Requirement already satisfied: zipp>=0.5 in /usr/local/lib/python3.7/dist-packages (from importlib-metadata->transformers) (3.6.0)\n",
            "Requirement already satisfied: certifi>=2017.4.17 in /usr/local/lib/python3.7/dist-packages (from requests->transformers) (2021.5.30)\n",
            "Requirement already satisfied: urllib3!=1.25.0,!=1.25.1,<1.26,>=1.21.1 in /usr/local/lib/python3.7/dist-packages (from requests->transformers) (1.24.3)\n",
            "Requirement already satisfied: idna<3,>=2.5 in /usr/local/lib/python3.7/dist-packages (from requests->transformers) (2.10)\n",
            "Requirement already satisfied: chardet<4,>=3.0.2 in /usr/local/lib/python3.7/dist-packages (from requests->transformers) (3.0.4)\n",
            "Requirement already satisfied: click in /usr/local/lib/python3.7/dist-packages (from sacremoses->transformers) (7.1.2)\n",
            "Requirement already satisfied: joblib in /usr/local/lib/python3.7/dist-packages (from sacremoses->transformers) (1.0.1)\n",
            "Requirement already satisfied: six in /usr/local/lib/python3.7/dist-packages (from sacremoses->transformers) (1.15.0)\n"
          ]
        }
      ]
    },
    {
      "cell_type": "code",
      "metadata": {
        "id": "Hhejtw4t8oG8"
      },
      "source": [
        "import os\n",
        "import re\n",
        "import requests\n",
        "import zipfile\n",
        "import sys\n",
        "import time\n",
        "import logging\n",
        "import textwrap\n",
        "import numpy as np\n",
        "import pandas as pd\n",
        "from subprocess import call\n",
        "from sklearn.metrics.pairwise import cosine_similarity\n",
        "\n",
        "from collections import defaultdict\n",
        "from multiprocessing import Pool\n",
        "from tqdm.auto import tqdm, trange\n",
        "from itertools import chain\n",
        "\n",
        "from transformers import TFBertForQuestionAnswering, TFBertModel, BertTokenizer\n",
        "                          \n",
        "from transformers.optimization import AdamW, get_linear_schedule_with_warmup\n",
        "\n",
        "import tensorflow as tf\n",
        "\n",
        "import seaborn as sns\n",
        "import matplotlib.pyplot as plt"
      ],
      "execution_count": null,
      "outputs": []
    },
    {
      "cell_type": "code",
      "metadata": {
        "id": "CAsakN6m8s23"
      },
      "source": [
        "# Setup Logger\n",
        "if '__file__' not in globals():\n",
        "  __file__ = \".\"\n",
        "logger = logging.getLogger(__file__)\n",
        "\n",
        "# Logger config\n",
        "logging.basicConfig(level=logging.INFO)"
      ],
      "execution_count": null,
      "outputs": []
    },
    {
      "cell_type": "code",
      "metadata": {
        "colab": {
          "base_uri": "https://localhost:8080/"
        },
        "id": "EFkHFL9x8uBj",
        "outputId": "ded1c9c9-2801-43dd-e071-3eb840961d80"
      },
      "source": [
        "# Enable/Disable Eager Execution\n",
        "# Reference: https://www.tensorflow.org/guide/eager\n",
        "# TensorFlow's eager execution is an imperative programming environment that evaluates operations immediately, \n",
        "# without building graphs\n",
        "\n",
        "#tf.compat.v1.disable_eager_execution()\n",
        "#tf.compat.v1.enable_eager_execution()\n",
        "\n",
        "logger.info('__Python VERSION: %s', sys.version)\n",
        "logger.info(\"tensorflow version: %s\", tf.__version__)\n",
        "logger.info(\"keras version: %s\", tf.keras.__version__)\n",
        "logger.info(\"Eager Execution Enabled: %s\", tf.executing_eagerly())\n",
        "\n",
        "# Get the number of replicas \n",
        "strategy = tf.distribute.MirroredStrategy()\n",
        "logger.info(\"Number of replicas: %s\", strategy.num_replicas_in_sync)\n",
        "\n",
        "devices = tf.config.experimental.get_visible_devices()\n",
        "logger.info(\"Devices: %s\", devices)\n",
        "logger.info(tf.config.experimental.list_logical_devices('GPU'))\n",
        "\n",
        "logger.info(\"GPU Available: %s\", tf.config.list_physical_devices('GPU'))\n",
        "logger.info(\"All Pysical Devices: %s\", tf.config.list_physical_devices())\n",
        "\n",
        "# nvidia-smi\n",
        "call([\"nvidia-smi\", \"--format=csv\", \"--query-gpu=index,name,driver_version,memory.total,memory.used,memory.free\"])\n",
        "\n",
        "# Better performance with the tf.data API\n",
        "# Reference: https://www.tensorflow.org/guide/data_performance\n",
        "AUTOTUNE = tf.data.experimental.AUTOTUNE"
      ],
      "execution_count": null,
      "outputs": [
        {
          "output_type": "stream",
          "name": "stderr",
          "text": [
            "INFO:.:__Python VERSION: 3.7.12 (default, Sep 10 2021, 00:21:48) \n",
            "[GCC 7.5.0]\n",
            "INFO:.:tensorflow version: 2.6.0\n",
            "INFO:.:keras version: 2.6.0\n",
            "INFO:.:Eager Execution Enabled: True\n"
          ]
        },
        {
          "output_type": "stream",
          "name": "stdout",
          "text": [
            "WARNING:tensorflow:There are non-GPU devices in `tf.distribute.Strategy`, not using nccl allreduce.\n"
          ]
        },
        {
          "output_type": "stream",
          "name": "stderr",
          "text": [
            "WARNING:tensorflow:There are non-GPU devices in `tf.distribute.Strategy`, not using nccl allreduce.\n"
          ]
        },
        {
          "output_type": "stream",
          "name": "stdout",
          "text": [
            "INFO:tensorflow:Using MirroredStrategy with devices ('/job:localhost/replica:0/task:0/device:CPU:0',)\n"
          ]
        },
        {
          "output_type": "stream",
          "name": "stderr",
          "text": [
            "INFO:tensorflow:Using MirroredStrategy with devices ('/job:localhost/replica:0/task:0/device:CPU:0',)\n",
            "INFO:.:Number of replicas: 1\n",
            "INFO:.:Devices: [PhysicalDevice(name='/physical_device:CPU:0', device_type='CPU')]\n",
            "INFO:.:[]\n",
            "INFO:.:GPU Available: []\n",
            "INFO:.:All Pysical Devices: [PhysicalDevice(name='/physical_device:CPU:0', device_type='CPU')]\n"
          ]
        }
      ]
    },
    {
      "cell_type": "code",
      "metadata": {
        "id": "9AATJfem8uEA"
      },
      "source": [
        "def download_file(packet_url, base_path=\"\", extract=False, headers=None):\n",
        "  if base_path != \"\":\n",
        "    if not os.path.exists(base_path):\n",
        "      os.mkdir(base_path)\n",
        "  packet_file = os.path.basename(packet_url)\n",
        "  with requests.get(packet_url, stream=True, headers=headers) as r:\n",
        "      r.raise_for_status()\n",
        "      with open(os.path.join(base_path,packet_file), 'wb') as f:\n",
        "          for chunk in r.iter_content(chunk_size=8192):\n",
        "              f.write(chunk)\n",
        "  \n",
        "  if extract:\n",
        "    if packet_file.endswith(\".zip\"):\n",
        "      with zipfile.ZipFile(os.path.join(base_path,packet_file)) as zfile:\n",
        "        zfile.extractall(base_path)\n",
        "    else:\n",
        "      packet_name = packet_file.split('.')[0]\n",
        "      with tarfile.open(os.path.join(base_path,packet_file)) as tfile:\n",
        "        tfile.extractall(base_path)\n",
        "\n",
        "\n",
        "def save_model(model, path=\"models\",model_name=\"model01\"):\n",
        "\n",
        "  # Ensure path exists\n",
        "  if not os.path.exists(path):\n",
        "      os.mkdir(path)\n",
        "\n",
        "  # Save the enitire model (structure + weights)\n",
        "  model.save(os.path.join(path,model_name+\".hdf5\"))\n",
        "\n",
        "  # Save only the weights\n",
        "  model.save_weights(os.path.join(path,model_name+\".h5\"))\n",
        "\n",
        "  # Save the structure only\n",
        "  model_json = model.to_json()\n",
        "  with open(os.path.join(path,model_name+\".json\"), \"w\") as json_file:\n",
        "      json_file.write(model_json)\n"
      ],
      "execution_count": null,
      "outputs": []
    },
    {
      "cell_type": "markdown",
      "metadata": {
        "id": "VQYOARYm9IE3"
      },
      "source": [
        "# Download datasets"
      ]
    },
    {
      "cell_type": "code",
      "metadata": {
        "colab": {
          "base_uri": "https://localhost:8080/"
        },
        "id": "CXTaHion8uGh",
        "outputId": "2d668062-5f28-41c7-9977-1b5bd3a4d8e5"
      },
      "source": [
        "start_time = time.time()\n",
        "\n",
        "download_file(\"https://storage.googleapis.com/dogs_text/dogs_qa.csv\", base_path=\"datasets\", extract=False)\n",
        "download_file(\"https://storage.googleapis.com/dogs_text/dogs_website_memos.csv\", base_path=\"datasets\", extract=False)\n",
        "download_file(\"https://storage.googleapis.com/dogs_meta/data_dictionary.txt\", base_path=\"datasets\", extract=False)\n",
        "download_file(\"https://storage.googleapis.com/dogs_meta/dogs.csv\", base_path=\"datasets\", extract=False)\n",
        "\n",
        "execution_time = (time.time() - start_time)/60.0\n",
        "print(\"Download execution time (mins)\",execution_time)\n",
        "\n",
        "datasets_path = \"datasets\"\n",
        "\n",
        "# Data Dictionary\n",
        "data_dictionary_path = os.path.join(datasets_path,\"data_dictionary.txt\")\n",
        "with open(data_dictionary_path, 'r') as file:\n",
        "  data_dictionary = file.read()\n",
        "\n",
        "print(\"Data Dictionary:\")\n",
        "print(data_dictionary)\n",
        "\n",
        "# Wrap text to 80 characters.\n",
        "wrapper = textwrap.TextWrapper(width=80) \n"
      ],
      "execution_count": null,
      "outputs": [
        {
          "output_type": "stream",
          "name": "stdout",
          "text": [
            "Download execution time (mins) 0.004545338948567708\n",
            "Data Dictionary:\n",
            "dogs.csv - one row for every dog taken into custody since 1/1/2017.\n",
            "-fields:\n",
            "—-\"AnimalID\" - public facing unique id\n",
            "--\"AnimalInternal-ID\" - internal unique id - USE THIS to link to the other tables (dogs_photos.csv and dogs_website_memos.csv)\n",
            "--\"AnimalName\" \n",
            "--\"AnimalType\" - always \"Dog\"\n",
            "--\"AnimalSex\" - Male, Female or Unknown\n",
            "--\"AnimalCurrentWeightPounds\" - decimal weight in pounds. NOTE: data quality of this field is mediocre at best. Staff are good about recording at least one weight around the time of intake but not as diligent about recording a weight prior to outcome.\n",
            "--\"AnimalDOB\" -  DOB formatted as YYYYMMDD\n",
            "--\"AnimalBreed\" - concatenation of primary and secondary breed fields delimited by \" /\". \n",
            "--\"AnimalColor\" - concatenation of primary and secondary colors fields delimited by \" /\". \n",
            "--\"AnimalPattern\" - animal pattern NOTE: not often populated for dogs. More often used for cats\n",
            "\n",
            "\n",
            "dogs_photos.csv - one row for every photo uploaded to a dogs profile.\n",
            "-fields:\n",
            "--\"AnimalInternal-ID\" - internal unique id for dog. USE THIS to link to dogs.csv\n",
            "--\"PhotoUrl\" - URL to photo\n",
            "\n",
            "dogs_website_memos.csv - one row for every website bio\n",
            "-fields:\n",
            "--\"AnimalInternal-ID\" - internal unique id for dog. USE THIS to link to dogs.csv\n",
            "--\"MemoText\" - contains public bio text that displays for each animal on their adoption page.\n"
          ]
        }
      ]
    },
    {
      "cell_type": "markdown",
      "metadata": {
        "id": "pYZjVy_WZxE9"
      },
      "source": [
        "# Exploration Data Analysis"
      ]
    },
    {
      "cell_type": "markdown",
      "metadata": {
        "id": "nH3tZsnT_wjO"
      },
      "source": [
        "### dogs.csv\n"
      ]
    },
    {
      "cell_type": "markdown",
      "metadata": {
        "id": "pudZzDmN6wmC"
      },
      "source": [
        "Here is what the main database with table values look like with the aforementioned headers. The dogs are linked with images by the AnimalInternal-ID field."
      ]
    },
    {
      "cell_type": "code",
      "metadata": {
        "colab": {
          "base_uri": "https://localhost:8080/",
          "height": 356
        },
        "id": "oOR6AWN38uI9",
        "outputId": "7706c60f-e77c-4238-db60-f91037b7e1cb"
      },
      "source": [
        "# dogs.csv\n",
        "dogs_path = os.path.join(datasets_path,\"dogs.csv\")\n",
        "dogs = pd.read_csv(dogs_path)\n",
        "# Compute age of dog\n",
        "dogs['DOB'] = pd.to_datetime(dogs['AnimalDOB'], format='%Y%m%d')\n",
        "dogs[\"Year\"] = pd.DatetimeIndex(dogs['DOB']).year\n",
        "dogs[\"Age\"] = (pd.to_datetime('now') - dogs['DOB']).astype('<m8[Y]')\n",
        "\n",
        "print(\"Shape:\",dogs.shape)\n",
        "dogs.head(5)"
      ],
      "execution_count": null,
      "outputs": [
        {
          "output_type": "stream",
          "name": "stdout",
          "text": [
            "Shape: (17212, 13)\n"
          ]
        },
        {
          "output_type": "execute_result",
          "data": {
            "text/html": [
              "<div>\n",
              "<style scoped>\n",
              "    .dataframe tbody tr th:only-of-type {\n",
              "        vertical-align: middle;\n",
              "    }\n",
              "\n",
              "    .dataframe tbody tr th {\n",
              "        vertical-align: top;\n",
              "    }\n",
              "\n",
              "    .dataframe thead th {\n",
              "        text-align: right;\n",
              "    }\n",
              "</style>\n",
              "<table border=\"1\" class=\"dataframe\">\n",
              "  <thead>\n",
              "    <tr style=\"text-align: right;\">\n",
              "      <th></th>\n",
              "      <th>AnimalID</th>\n",
              "      <th>AnimalInternal-ID</th>\n",
              "      <th>AnimalName</th>\n",
              "      <th>AnimalType</th>\n",
              "      <th>AnimalSex</th>\n",
              "      <th>AnimalCurrentWeightPounds</th>\n",
              "      <th>AnimalDOB</th>\n",
              "      <th>AnimalBreed</th>\n",
              "      <th>AnimalColor</th>\n",
              "      <th>AnimalPattern</th>\n",
              "      <th>DOB</th>\n",
              "      <th>Year</th>\n",
              "      <th>Age</th>\n",
              "    </tr>\n",
              "  </thead>\n",
              "  <tbody>\n",
              "    <tr>\n",
              "      <th>0</th>\n",
              "      <td>45628</td>\n",
              "      <td>1444011</td>\n",
              "      <td>Emma</td>\n",
              "      <td>Dog</td>\n",
              "      <td>Female</td>\n",
              "      <td>53.3</td>\n",
              "      <td>20150306</td>\n",
              "      <td>Retriever, Yellow Labrador /Mix</td>\n",
              "      <td>Blond /None</td>\n",
              "      <td>NaN</td>\n",
              "      <td>2015-03-06</td>\n",
              "      <td>2015</td>\n",
              "      <td>6.0</td>\n",
              "    </tr>\n",
              "    <tr>\n",
              "      <th>1</th>\n",
              "      <td>45629</td>\n",
              "      <td>1444014</td>\n",
              "      <td>Rizzoli</td>\n",
              "      <td>Dog</td>\n",
              "      <td>Female</td>\n",
              "      <td>4.7</td>\n",
              "      <td>20161222</td>\n",
              "      <td>Mixed Breed (Small)</td>\n",
              "      <td>Tan /None</td>\n",
              "      <td>NaN</td>\n",
              "      <td>2016-12-22</td>\n",
              "      <td>2016</td>\n",
              "      <td>4.0</td>\n",
              "    </tr>\n",
              "    <tr>\n",
              "      <th>2</th>\n",
              "      <td>45630</td>\n",
              "      <td>1444017</td>\n",
              "      <td>Isles</td>\n",
              "      <td>Dog</td>\n",
              "      <td>Female</td>\n",
              "      <td>3.1</td>\n",
              "      <td>20161222</td>\n",
              "      <td>Mixed Breed (Small)</td>\n",
              "      <td>White /None</td>\n",
              "      <td>NaN</td>\n",
              "      <td>2016-12-22</td>\n",
              "      <td>2016</td>\n",
              "      <td>4.0</td>\n",
              "    </tr>\n",
              "    <tr>\n",
              "      <th>3</th>\n",
              "      <td>45631</td>\n",
              "      <td>1444020</td>\n",
              "      <td>Cory</td>\n",
              "      <td>Dog</td>\n",
              "      <td>Male</td>\n",
              "      <td>4.7</td>\n",
              "      <td>20161222</td>\n",
              "      <td>Mixed Breed (Small)</td>\n",
              "      <td>Sable /None</td>\n",
              "      <td>NaN</td>\n",
              "      <td>2016-12-22</td>\n",
              "      <td>2016</td>\n",
              "      <td>4.0</td>\n",
              "    </tr>\n",
              "    <tr>\n",
              "      <th>4</th>\n",
              "      <td>45632</td>\n",
              "      <td>1444023</td>\n",
              "      <td>Topanga</td>\n",
              "      <td>Dog</td>\n",
              "      <td>Female</td>\n",
              "      <td>8.0</td>\n",
              "      <td>20161222</td>\n",
              "      <td>Mixed Breed (Small)</td>\n",
              "      <td>Tan /None</td>\n",
              "      <td>NaN</td>\n",
              "      <td>2016-12-22</td>\n",
              "      <td>2016</td>\n",
              "      <td>4.0</td>\n",
              "    </tr>\n",
              "  </tbody>\n",
              "</table>\n",
              "</div>"
            ],
            "text/plain": [
              "   AnimalID  AnimalInternal-ID AnimalName  ...        DOB  Year  Age\n",
              "0     45628            1444011       Emma  ... 2015-03-06  2015  6.0\n",
              "1     45629            1444014    Rizzoli  ... 2016-12-22  2016  4.0\n",
              "2     45630            1444017      Isles  ... 2016-12-22  2016  4.0\n",
              "3     45631            1444020       Cory  ... 2016-12-22  2016  4.0\n",
              "4     45632            1444023    Topanga  ... 2016-12-22  2016  4.0\n",
              "\n",
              "[5 rows x 13 columns]"
            ]
          },
          "metadata": {},
          "execution_count": 44
        }
      ]
    },
    {
      "cell_type": "markdown",
      "metadata": {
        "id": "loR7oBAU_sLZ"
      },
      "source": [
        "### dogs_website_memos.csv"
      ]
    },
    {
      "cell_type": "markdown",
      "metadata": {
        "id": "wXC4GVU17Mev"
      },
      "source": [
        "Here we are just reformatting the memo text to standardization."
      ]
    },
    {
      "cell_type": "code",
      "metadata": {
        "colab": {
          "base_uri": "https://localhost:8080/",
          "height": 593
        },
        "id": "9yFfwVvN8uLc",
        "outputId": "01218218-7978-443f-ad4c-047ad24e3a86"
      },
      "source": [
        "# dogs_website_memos.csv\n",
        "dogs_website_memos_path = os.path.join(datasets_path,\"dogs_website_memos.csv\")\n",
        "with open(dogs_website_memos_path, 'r') as file:\n",
        "  dogs_website_memos = file.read()\n",
        "\n",
        "dogs_website_memos = dogs_website_memos.replace('\\n\\n','')\n",
        "dogs_website_memos = dogs_website_memos.replace('\\n \\n','')\n",
        "dogs_website_memos = dogs_website_memos.replace('\"\\n','\"<EOL>')\n",
        "dogs_website_memos = dogs_website_memos.replace('\\\\\"','')\n",
        "dogs_website_memos = dogs_website_memos.replace('\\n','')\n",
        "dogs_website_memos = dogs_website_memos.replace('<EOL>','\\n')\n",
        "#print(dogs_website_memos[:5000])\n",
        "\n",
        "dogs_website_memos = [row for row in dogs_website_memos.split(sep='\\n')]\n",
        "dogs_website_memos = dogs_website_memos[1:] # Remove header\n",
        "dogs_website_memos = dogs_website_memos[:-1] # Remove last empty row\n",
        "\n",
        "AnimalInternalID = []\n",
        "MemoText = []\n",
        "for row in dogs_website_memos:\n",
        "  AnimalInternalID.append(row.split(',\"')[0])\n",
        "  MemoText.append(row.split(',\"')[1])\n",
        "\n",
        "data = {\n",
        "    \"AnimalInternal-ID\":AnimalInternalID,\n",
        "    \"MemoText\":MemoText\n",
        "}\n",
        "dogs_website_memos = pd.DataFrame(data)\n",
        "dogs_website_memos['AnimalInternal-ID'] = dogs_website_memos['AnimalInternal-ID'].astype(int)\n",
        "dogs_website_memos = dogs_website_memos.sort_values(by='AnimalInternal-ID')\n",
        "dogs_website_memos = dogs_website_memos.groupby('AnimalInternal-ID').first().reset_index()\n",
        "print(\"Shape:\",dogs_website_memos.shape)\n",
        "display(dogs_website_memos.head())\n",
        "\n",
        "print('\\n\\n')\n",
        "print(wrapper.fill(dogs_website_memos.iloc[2].MemoText))"
      ],
      "execution_count": null,
      "outputs": [
        {
          "output_type": "stream",
          "name": "stdout",
          "text": [
            "Shape: (5242, 2)\n"
          ]
        },
        {
          "output_type": "display_data",
          "data": {
            "text/html": [
              "<div>\n",
              "<style scoped>\n",
              "    .dataframe tbody tr th:only-of-type {\n",
              "        vertical-align: middle;\n",
              "    }\n",
              "\n",
              "    .dataframe tbody tr th {\n",
              "        vertical-align: top;\n",
              "    }\n",
              "\n",
              "    .dataframe thead th {\n",
              "        text-align: right;\n",
              "    }\n",
              "</style>\n",
              "<table border=\"1\" class=\"dataframe\">\n",
              "  <thead>\n",
              "    <tr style=\"text-align: right;\">\n",
              "      <th></th>\n",
              "      <th>AnimalInternal-ID</th>\n",
              "      <th>MemoText</th>\n",
              "    </tr>\n",
              "  </thead>\n",
              "  <tbody>\n",
              "    <tr>\n",
              "      <th>0</th>\n",
              "      <td>1444011</td>\n",
              "      <td>Emma is a blonde princess who definitely likes...</td>\n",
              "    </tr>\n",
              "    <tr>\n",
              "      <th>1</th>\n",
              "      <td>1444414</td>\n",
              "      <td>Zydeco is an athletic, energetic, fun-loving p...</td>\n",
              "    </tr>\n",
              "    <tr>\n",
              "      <th>2</th>\n",
              "      <td>1445198</td>\n",
              "      <td>Meadow is a super sweet young dog who loves to...</td>\n",
              "    </tr>\n",
              "    <tr>\n",
              "      <th>3</th>\n",
              "      <td>1445280</td>\n",
              "      <td>If Kit Kat's shiny red coat and perfectly mani...</td>\n",
              "    </tr>\n",
              "    <tr>\n",
              "      <th>4</th>\n",
              "      <td>1445310</td>\n",
              "      <td>If you are looking for a sweet girl who wants ...</td>\n",
              "    </tr>\n",
              "  </tbody>\n",
              "</table>\n",
              "</div>"
            ],
            "text/plain": [
              "   AnimalInternal-ID                                           MemoText\n",
              "0            1444011  Emma is a blonde princess who definitely likes...\n",
              "1            1444414  Zydeco is an athletic, energetic, fun-loving p...\n",
              "2            1445198  Meadow is a super sweet young dog who loves to...\n",
              "3            1445280  If Kit Kat's shiny red coat and perfectly mani...\n",
              "4            1445310  If you are looking for a sweet girl who wants ..."
            ]
          },
          "metadata": {}
        },
        {
          "output_type": "stream",
          "name": "stdout",
          "text": [
            "\n",
            "\n",
            "\n",
            "Meadow is a super sweet young dog who loves to play, loves to cuddle and she\n",
            "truly enjoys a nice run. She will walk, but she likes to go fast when she is\n",
            "allowed. This is despite the fact that she doesn't put full weight on one of her\n",
            "back legs. This has been checked and there is no identifiable problem requiring\n",
            "any kind of special treatment and it doesn't slow her down a bit!Meadow is sharp\n",
            "and is house trained, uses the dog door, and can be left alone all day though\n",
            "she does prefer to be with her human/s. She also really enjoys access to a yard\n",
            "where she can run and play with her favorite toys. Though she has a lot of\n",
            "energy, Meadow is noted to be a very calm dog and also enjoys chill time. She is\n",
            "called adorable, loving, lively and delightful and will look at you with such\n",
            "expressive eyes and ears that you will know you are loved and have a companion\n",
            "who wants nothing more than to please.Meadow is interested in and seems to enjoy\n",
            "other dogs and is on the passive side. She gets along with the foster resident\n",
            "cat, no chasing, and basically gives the kitty its space. She hasn't been\n",
            "observed with children, but her foster mom thinks she would be just fine with\n",
            "children...just a smaller size human for her to play with and love.Meadow can\n",
            "hardly wait for you to come and take her to her forever home, so we hope you\n",
            "come hang out with her and make a quick decision that she's the one for you!\"\n"
          ]
        }
      ]
    },
    {
      "cell_type": "markdown",
      "metadata": {
        "id": "gPWqFO-S_k73"
      },
      "source": [
        "### dogs_qa.csv"
      ]
    },
    {
      "cell_type": "markdown",
      "metadata": {
        "id": "jqDbvxyy7hPy"
      },
      "source": [
        "Read in the Q&A data with pregenerated questions and answer templates.\n"
      ]
    },
    {
      "cell_type": "code",
      "metadata": {
        "colab": {
          "base_uri": "https://localhost:8080/",
          "height": 783
        },
        "id": "V_7ylRhL_PQV",
        "outputId": "ca728e90-e72d-49d5-a457-d8fc49f83db7"
      },
      "source": [
        "# dogs_qa.csv\n",
        "dogs_qa_path = os.path.join(datasets_path,\"dogs_qa.csv\")\n",
        "dogs_qa = pd.read_csv(dogs_qa_path)\n",
        "\n",
        "display(dogs_qa.iloc[0:17])\n",
        "print('\\n\\n')\n",
        "print(dogs_qa.question.iloc[0])\n",
        "print('\\n')\n",
        "print(wrapper.fill(dogs_qa.answer.iloc[0]))\n",
        "\n",
        "print('\\n Shape: ',dogs_qa.shape)"
      ],
      "execution_count": null,
      "outputs": [
        {
          "output_type": "display_data",
          "data": {
            "text/html": [
              "<div>\n",
              "<style scoped>\n",
              "    .dataframe tbody tr th:only-of-type {\n",
              "        vertical-align: middle;\n",
              "    }\n",
              "\n",
              "    .dataframe tbody tr th {\n",
              "        vertical-align: top;\n",
              "    }\n",
              "\n",
              "    .dataframe thead th {\n",
              "        text-align: right;\n",
              "    }\n",
              "</style>\n",
              "<table border=\"1\" class=\"dataframe\">\n",
              "  <thead>\n",
              "    <tr style=\"text-align: right;\">\n",
              "      <th></th>\n",
              "      <th>breed</th>\n",
              "      <th>question</th>\n",
              "      <th>answer</th>\n",
              "    </tr>\n",
              "  </thead>\n",
              "  <tbody>\n",
              "    <tr>\n",
              "      <th>0</th>\n",
              "      <td>Terrier, Pit Bull/Mix</td>\n",
              "      <td>Are Pitbull Terriers good family dogs?</td>\n",
              "      <td>When raised with the proper training and socia...</td>\n",
              "    </tr>\n",
              "    <tr>\n",
              "      <th>1</th>\n",
              "      <td>Terrier, Pit Bull/Mix</td>\n",
              "      <td>Does terrier mix mean pit bull?</td>\n",
              "      <td>A terrier mix combines one parent from a terri...</td>\n",
              "    </tr>\n",
              "    <tr>\n",
              "      <th>2</th>\n",
              "      <td>Terrier, Pit Bull/Mix</td>\n",
              "      <td>What dog will kill a pitbull?</td>\n",
              "      <td>So, what dog can beat a Pitbull? A Rottweiler ...</td>\n",
              "    </tr>\n",
              "    <tr>\n",
              "      <th>3</th>\n",
              "      <td>Terrier, Pit Bull/Mix</td>\n",
              "      <td>Do pitbulls like to cuddle?</td>\n",
              "      <td>Even if a Pit Bull does not like other dogs, t...</td>\n",
              "    </tr>\n",
              "    <tr>\n",
              "      <th>4</th>\n",
              "      <td>Terrier, Pit Bull/Mix</td>\n",
              "      <td>Do pitbulls turn on their owners?</td>\n",
              "      <td>They can become aggressive and if you have an ...</td>\n",
              "    </tr>\n",
              "    <tr>\n",
              "      <th>5</th>\n",
              "      <td>Terrier, Pit Bull/Mix</td>\n",
              "      <td>Which dog can kill a lion?</td>\n",
              "      <td>Well, there is a dog called the Ovcharka Cauca...</td>\n",
              "    </tr>\n",
              "    <tr>\n",
              "      <th>6</th>\n",
              "      <td>Terrier, Pit Bull/Mix</td>\n",
              "      <td>What two breeds make pitbulls?</td>\n",
              "      <td>Most pit bull–type dogs descend from the Briti...</td>\n",
              "    </tr>\n",
              "    <tr>\n",
              "      <th>7</th>\n",
              "      <td>Terrier, Pit Bull/Mix</td>\n",
              "      <td>Are terrier mix good family dogs?</td>\n",
              "      <td>Even though they are physically small to mediu...</td>\n",
              "    </tr>\n",
              "    <tr>\n",
              "      <th>8</th>\n",
              "      <td>Terrier, Pit Bull/Mix</td>\n",
              "      <td>What breed of dog has killed the most humans?</td>\n",
              "      <td>The following infographic shows that the Pit B...</td>\n",
              "    </tr>\n",
              "    <tr>\n",
              "      <th>9</th>\n",
              "      <td>Terrier, Pit Bull/Mix</td>\n",
              "      <td>What dog is more dangerous than a pitbull?</td>\n",
              "      <td>Akitas, Australian cattle dogs, Australian she...</td>\n",
              "    </tr>\n",
              "    <tr>\n",
              "      <th>10</th>\n",
              "      <td>Terrier, Pit Bull/Mix</td>\n",
              "      <td>Do pitbulls shed a lot?</td>\n",
              "      <td>While Pitbulls might be single-coated dogs, th...</td>\n",
              "    </tr>\n",
              "    <tr>\n",
              "      <th>11</th>\n",
              "      <td>Terrier, Pit Bull/Mix</td>\n",
              "      <td>How big does a pitbull mix get?</td>\n",
              "      <td>A Pitbull Lab mix can have the characteristics...</td>\n",
              "    </tr>\n",
              "    <tr>\n",
              "      <th>12</th>\n",
              "      <td>Terrier, Pit Bull/Mix</td>\n",
              "      <td>Should I let my pitbull sleep with me?</td>\n",
              "      <td>But, the reality is, you may be risking your h...</td>\n",
              "    </tr>\n",
              "    <tr>\n",
              "      <th>13</th>\n",
              "      <td>Terrier, Pit Bull/Mix</td>\n",
              "      <td>Do dogs feel love when you kiss them?</td>\n",
              "      <td>When you kiss your dog, you may notice signs t...</td>\n",
              "    </tr>\n",
              "    <tr>\n",
              "      <th>14</th>\n",
              "      <td>Terrier, Pit Bull/Mix</td>\n",
              "      <td>Do pit bulls suddenly snap?</td>\n",
              "      <td>Most dogs will exhibit warning signs, such as ...</td>\n",
              "    </tr>\n",
              "    <tr>\n",
              "      <th>15</th>\n",
              "      <td>Terrier, Pit Bull/Mix</td>\n",
              "      <td>Why do pit bulls snap?</td>\n",
              "      <td>But when aroused or agitated, they may be less...</td>\n",
              "    </tr>\n",
              "    <tr>\n",
              "      <th>16</th>\n",
              "      <td>Terrier, Pit Bull/Mix</td>\n",
              "      <td>At what age do pitbulls become aggressive?</td>\n",
              "      <td>Pit bulls will commonly start developing signs...</td>\n",
              "    </tr>\n",
              "  </tbody>\n",
              "</table>\n",
              "</div>"
            ],
            "text/plain": [
              "                    breed  ...                                             answer\n",
              "0   Terrier, Pit Bull/Mix  ...  When raised with the proper training and socia...\n",
              "1   Terrier, Pit Bull/Mix  ...  A terrier mix combines one parent from a terri...\n",
              "2   Terrier, Pit Bull/Mix  ...  So, what dog can beat a Pitbull? A Rottweiler ...\n",
              "3   Terrier, Pit Bull/Mix  ...  Even if a Pit Bull does not like other dogs, t...\n",
              "4   Terrier, Pit Bull/Mix  ...  They can become aggressive and if you have an ...\n",
              "5   Terrier, Pit Bull/Mix  ...  Well, there is a dog called the Ovcharka Cauca...\n",
              "6   Terrier, Pit Bull/Mix  ...  Most pit bull–type dogs descend from the Briti...\n",
              "7   Terrier, Pit Bull/Mix  ...  Even though they are physically small to mediu...\n",
              "8   Terrier, Pit Bull/Mix  ...  The following infographic shows that the Pit B...\n",
              "9   Terrier, Pit Bull/Mix  ...  Akitas, Australian cattle dogs, Australian she...\n",
              "10  Terrier, Pit Bull/Mix  ...  While Pitbulls might be single-coated dogs, th...\n",
              "11  Terrier, Pit Bull/Mix  ...  A Pitbull Lab mix can have the characteristics...\n",
              "12  Terrier, Pit Bull/Mix  ...  But, the reality is, you may be risking your h...\n",
              "13  Terrier, Pit Bull/Mix  ...  When you kiss your dog, you may notice signs t...\n",
              "14  Terrier, Pit Bull/Mix  ...  Most dogs will exhibit warning signs, such as ...\n",
              "15  Terrier, Pit Bull/Mix  ...  But when aroused or agitated, they may be less...\n",
              "16  Terrier, Pit Bull/Mix  ...  Pit bulls will commonly start developing signs...\n",
              "\n",
              "[17 rows x 3 columns]"
            ]
          },
          "metadata": {}
        },
        {
          "output_type": "stream",
          "name": "stdout",
          "text": [
            "\n",
            "\n",
            "\n",
            "Are Pitbull Terriers good family dogs?\n",
            "\n",
            "\n",
            "When raised with the proper training and socialization, the American Pit Bull\n",
            "Terrier makes an excellent companion for children. He is loving and gentle with\n",
            "people and often makes a lousy guard dog because of his tail-wagging eagerness\n",
            "to greet the person at the door.\n",
            "\n",
            " Shape:  (499, 3)\n"
          ]
        }
      ]
    },
    {
      "cell_type": "markdown",
      "metadata": {
        "id": "01Yx0zRAlcbE"
      },
      "source": [
        "### Display information about Emma\n",
        "\n",
        "\n",
        "<img src=\"https://www.shelterluv.com/sites/default/files/animal_pics/464/2017/01/01/14/20170101140347.png\" width=\"400\">"
      ]
    },
    {
      "cell_type": "code",
      "metadata": {
        "colab": {
          "base_uri": "https://localhost:8080/",
          "height": 887
        },
        "id": "sInj-MEl_PS0",
        "outputId": "b2fd0dd9-2952-4146-e843-bf7f22564c85"
      },
      "source": [
        "display(dogs.iloc[0])\n",
        "print('\\n')\n",
        "print(wrapper.fill(dogs_website_memos.iloc[0].MemoText))\n",
        "\n",
        "print('\\n')\n",
        "print(dogs_qa.question.iloc[18])\n",
        "print(wrapper.fill(dogs_qa.answer.iloc[18]))\n",
        "\n",
        "print('\\n')\n",
        "print(dogs_qa.question.iloc[19])\n",
        "print(wrapper.fill(dogs_qa.answer.iloc[19]))\n",
        "\n",
        "print('\\n')\n",
        "print(dogs_qa.question.iloc[20])\n",
        "print(wrapper.fill(dogs_qa.answer.iloc[20]))"
      ],
      "execution_count": null,
      "outputs": [
        {
          "output_type": "display_data",
          "data": {
            "text/plain": [
              "AnimalID                                               45628\n",
              "AnimalInternal-ID                                    1444011\n",
              "AnimalName                                              Emma\n",
              "AnimalType                                               Dog\n",
              "AnimalSex                                             Female\n",
              "AnimalCurrentWeightPounds                               53.3\n",
              "AnimalDOB                                           20150306\n",
              "AnimalBreed                  Retriever, Yellow Labrador /Mix\n",
              "AnimalColor                                      Blond /None\n",
              "AnimalPattern                                            NaN\n",
              "DOB                                      2015-03-06 00:00:00\n",
              "Year                                                    2015\n",
              "Age                                                        6\n",
              "Name: 0, dtype: object"
            ]
          },
          "metadata": {}
        },
        {
          "output_type": "stream",
          "name": "stdout",
          "text": [
            "\n",
            "\n",
            "Emma is a blonde princess who definitely likes the finer things in life - like\n",
            "kisses and hugs from her humans. She is so happy to be alive and even happier\n",
            "when her hair can be flying out a car window!This very affectionate, funny girl,\n",
            "now in foster care, always wants to start her day by getting those hugs and\n",
            "kisses from her person. And then she's ready for a day of playing with her\n",
            "brother and her foster dog buddy and playing fetch and tug-o-war.When playtime\n",
            "is done, Emma is also ready for her schooling. This spontaneous girl is a fast\n",
            "learner who already answers to the Come, Stop, No commands and is working on\n",
            "Sit, Stay and Place. She's crate trained, house trained and is always happy to\n",
            "match her person's activity level - up for a morning jog, then hanging out on\n",
            "the couch. And she's sure she's the best smeller in the world - bloodhounds and\n",
            "police dogs have nothing on her!Emma is a spirited, eager-to-please girl who's\n",
            "perfect for a family who wants a companion on those walks and a co-pilot for\n",
            "those drives in the car. Come take her for a walk and see if she's perfect for\n",
            "your home.\"\n",
            "\n",
            "\n",
            "Are lab mix good dogs?\n",
            "In fact, in most cases, mixed breed dogs, like Lab terriers or Lab Border Collie\n",
            "mixes, can be awesome family pets, and they might often be better off health-\n",
            "wise than their purebred counterparts.\n",
            "\n",
            "\n",
            "Does a Labrador retriever mix shed?\n",
            "This mix breed dog can weigh 35 to 80 pounds and doesn't need much grooming to\n",
            "stay clean. However, you can expect year-round shedding and heavier sheds\n",
            "seasonally.\n",
            "\n",
            "\n",
            "Are Labrador retrievers good dogs?\n",
            "In general, Labrador retrievers are excellent family dogs, as long as you keep\n",
            "in mind their need for exercise and training. These are dogs bred to work and\n",
            "work hard and they love to have jobs to do, particularly retrieving.\n"
          ]
        }
      ]
    },
    {
      "cell_type": "markdown",
      "metadata": {
        "id": "D5ejuteslyUq"
      },
      "source": [
        "## Question-Answering with Table Lookup"
      ]
    },
    {
      "cell_type": "code",
      "metadata": {
        "colab": {
          "base_uri": "https://localhost:8080/",
          "height": 1000
        },
        "id": "G6XIlO9f_PVF",
        "outputId": "b20749c3-92a8-48e1-a2a8-f9dd128e28c9"
      },
      "source": [
        "emma = dogs.iloc[:1]\n",
        "\n",
        "questions = [\n",
        " ['What is her name?',\n",
        "  'What is {}\\'s type?'.format(name),\n",
        "  'What is {}\\'s gender?'.format(name),\n",
        "  'What is {}\\'s weight?'.format(name),\n",
        "  'What is {}\\'s date of birth?'.format(name),\n",
        "  'What is {}\\'s breed?'.format(name),\n",
        "  'What is {}\\'s color?'.format(name),\n",
        "  'How old is {}?'.format(name,)\n",
        "  ]\n",
        "\n",
        "  for name, a_type, a_sex, weight, dob, breed, color, age in \n",
        "      zip(emma.AnimalName, \n",
        "          emma.AnimalType, \n",
        "          emma.AnimalSex, \n",
        "          emma.AnimalCurrentWeightPounds,\n",
        "          emma.AnimalDOB,\n",
        "          emma.AnimalBreed,\n",
        "          emma.AnimalColor,\n",
        "          emma.Age)\n",
        "]\n",
        "\n",
        "answers = [\n",
        " ['Her name is {}'.format(name),\n",
        "  '{} is a {}'.format(name, a_type),\n",
        "  '{} is {}'.format(name, a_sex),\n",
        "  '{}\\'s weight is {}'.format(name, weight),\n",
        "  '{}\\'s date of birth is {}'.format(name, dob),\n",
        "  '{}\\'s breed is {}'.format(name, breed),\n",
        "  '{}\\'s color is {}'.format(name, color),\n",
        "  '{} is {} years old'.format(name, age)\n",
        "  ]\n",
        "\n",
        "  if a_sex=='Female'\n",
        "\n",
        "  else\n",
        "\n",
        "  ['His name is {}'.format(name),\n",
        "  '{} is a {}'.format(name, a_type),\n",
        "  '{} is {}'.format(name, a_sex),\n",
        "  '{}\\'s weight is {}'.format(name, weight),\n",
        "  '{}\\'s date of birth is {}'.format(name, dob),\n",
        "  '{}\\'s breed is {}'.format(name, breed),\n",
        "  '{}\\'s color is {}'.format(name, color),\n",
        "  '{} is {} years old'.format(name, age)\n",
        "  ]\n",
        "\n",
        "  for name, a_type, a_sex, weight, dob, breed, color, age in \n",
        "      zip(emma.AnimalName, \n",
        "          emma.AnimalType, \n",
        "          emma.AnimalSex, \n",
        "          emma.AnimalCurrentWeightPounds,\n",
        "          emma.AnimalDOB,\n",
        "          emma.AnimalBreed,\n",
        "          emma.AnimalColor,\n",
        "          emma.Age)\n",
        "]\n",
        "\n",
        "dog_emma = pd.DataFrame({'question': questions[0], 'answer': answers[0]})\n",
        "\n",
        "dog_emma = dog_emma.append(\n",
        "    dogs_qa[dogs_qa.breed.str.contains('Retriever, Labrador/Mix')][['question', 'answer']])\n",
        "dog_emma = dog_emma.reset_index(drop=True)\n",
        "\n",
        "dog_emma"
      ],
      "execution_count": null,
      "outputs": [
        {
          "output_type": "execute_result",
          "data": {
            "text/html": [
              "<div>\n",
              "<style scoped>\n",
              "    .dataframe tbody tr th:only-of-type {\n",
              "        vertical-align: middle;\n",
              "    }\n",
              "\n",
              "    .dataframe tbody tr th {\n",
              "        vertical-align: top;\n",
              "    }\n",
              "\n",
              "    .dataframe thead th {\n",
              "        text-align: right;\n",
              "    }\n",
              "</style>\n",
              "<table border=\"1\" class=\"dataframe\">\n",
              "  <thead>\n",
              "    <tr style=\"text-align: right;\">\n",
              "      <th></th>\n",
              "      <th>question</th>\n",
              "      <th>answer</th>\n",
              "    </tr>\n",
              "  </thead>\n",
              "  <tbody>\n",
              "    <tr>\n",
              "      <th>0</th>\n",
              "      <td>What is her name?</td>\n",
              "      <td>Her name is Emma</td>\n",
              "    </tr>\n",
              "    <tr>\n",
              "      <th>1</th>\n",
              "      <td>What is Emma's type?</td>\n",
              "      <td>Emma is a Dog</td>\n",
              "    </tr>\n",
              "    <tr>\n",
              "      <th>2</th>\n",
              "      <td>What is Emma's gender?</td>\n",
              "      <td>Emma is Female</td>\n",
              "    </tr>\n",
              "    <tr>\n",
              "      <th>3</th>\n",
              "      <td>What is Emma's weight?</td>\n",
              "      <td>Emma's weight is 53.3</td>\n",
              "    </tr>\n",
              "    <tr>\n",
              "      <th>4</th>\n",
              "      <td>What is Emma's date of birth?</td>\n",
              "      <td>Emma's date of birth is 20150306</td>\n",
              "    </tr>\n",
              "    <tr>\n",
              "      <th>5</th>\n",
              "      <td>What is Emma's breed?</td>\n",
              "      <td>Emma's breed is Retriever, Yellow Labrador /Mix</td>\n",
              "    </tr>\n",
              "    <tr>\n",
              "      <th>6</th>\n",
              "      <td>What is Emma's color?</td>\n",
              "      <td>Emma's color is Blond /None</td>\n",
              "    </tr>\n",
              "    <tr>\n",
              "      <th>7</th>\n",
              "      <td>How old is Emma?</td>\n",
              "      <td>Emma is 6.0 years old</td>\n",
              "    </tr>\n",
              "    <tr>\n",
              "      <th>8</th>\n",
              "      <td>How big does a Labrador retriever mix get?</td>\n",
              "      <td>Males stand 22.5 to 24.5 inches, and weigh 65 ...</td>\n",
              "    </tr>\n",
              "    <tr>\n",
              "      <th>9</th>\n",
              "      <td>Are lab mix good dogs?</td>\n",
              "      <td>In fact, in most cases, mixed breed dogs, like...</td>\n",
              "    </tr>\n",
              "    <tr>\n",
              "      <th>10</th>\n",
              "      <td>Does a Labrador retriever mix shed?</td>\n",
              "      <td>This mix breed dog can weigh 35 to 80 pounds a...</td>\n",
              "    </tr>\n",
              "    <tr>\n",
              "      <th>11</th>\n",
              "      <td>Are Labrador retrievers good dogs?</td>\n",
              "      <td>In general, Labrador retrievers are excellent ...</td>\n",
              "    </tr>\n",
              "    <tr>\n",
              "      <th>12</th>\n",
              "      <td>Do Labrador retrievers bark a lot?</td>\n",
              "      <td>Without plenty of physical stimulation and soc...</td>\n",
              "    </tr>\n",
              "    <tr>\n",
              "      <th>13</th>\n",
              "      <td>Do labs like to cuddle?</td>\n",
              "      <td>Yes, Labrador retrievers love to cuddle. This ...</td>\n",
              "    </tr>\n",
              "    <tr>\n",
              "      <th>14</th>\n",
              "      <td>Can Labradors be left alone for 8 hours?</td>\n",
              "      <td>Dog breeds that can be left alone for 8 hours ...</td>\n",
              "    </tr>\n",
              "    <tr>\n",
              "      <th>15</th>\n",
              "      <td>Can Lab mixes be small?</td>\n",
              "      <td>If you want a small Lab mix as a family compan...</td>\n",
              "    </tr>\n",
              "    <tr>\n",
              "      <th>16</th>\n",
              "      <td>What Color Lab is the smartest?</td>\n",
              "      <td>If you follow field trial hunting dogs, you mi...</td>\n",
              "    </tr>\n",
              "    <tr>\n",
              "      <th>17</th>\n",
              "      <td>What problems do Labradors have?</td>\n",
              "      <td>The Labrador breed has a lifespan of 10 to 12 ...</td>\n",
              "    </tr>\n",
              "    <tr>\n",
              "      <th>18</th>\n",
              "      <td>At what age do Labradors calm down?</td>\n",
              "      <td>Labs don't start “settling” down until sometim...</td>\n",
              "    </tr>\n",
              "    <tr>\n",
              "      <th>19</th>\n",
              "      <td>Are Labrador retrievers easy to potty train?</td>\n",
              "      <td>He is intelligent and easy to train. You can b...</td>\n",
              "    </tr>\n",
              "    <tr>\n",
              "      <th>20</th>\n",
              "      <td>Are Labrador retrievers easy to train?</td>\n",
              "      <td>Yes, Labs are typically easy to train. But thi...</td>\n",
              "    </tr>\n",
              "    <tr>\n",
              "      <th>21</th>\n",
              "      <td>Why you should not get a Labrador?</td>\n",
              "      <td>The health issues, so many health issues Cuten...</td>\n",
              "    </tr>\n",
              "    <tr>\n",
              "      <th>22</th>\n",
              "      <td>Are boy or girl labs better?</td>\n",
              "      <td>Males may be more attentive than females. Male...</td>\n",
              "    </tr>\n",
              "    <tr>\n",
              "      <th>23</th>\n",
              "      <td>Do Labradors bite their owners?</td>\n",
              "      <td>Labrador Retriever Bite Injuries Although very...</td>\n",
              "    </tr>\n",
              "    <tr>\n",
              "      <th>24</th>\n",
              "      <td>Do Labradors sleep a lot?</td>\n",
              "      <td>Adult Labradors will sleep for well over half ...</td>\n",
              "    </tr>\n",
              "    <tr>\n",
              "      <th>25</th>\n",
              "      <td>What is bad about Labrador retrievers?</td>\n",
              "      <td>This breed is prone to hip and elbow dysplasia...</td>\n",
              "    </tr>\n",
              "    <tr>\n",
              "      <th>26</th>\n",
              "      <td>Will labs attack intruders?</td>\n",
              "      <td>A Labrador may react then aggressively to an i...</td>\n",
              "    </tr>\n",
              "    <tr>\n",
              "      <th>27</th>\n",
              "      <td>Why do Labradors stink?</td>\n",
              "      <td>Bred to work in and around water, Labradors ha...</td>\n",
              "    </tr>\n",
              "    <tr>\n",
              "      <th>28</th>\n",
              "      <td>Is it cruel to crate a dog while at work?</td>\n",
              "      <td>Leaving a puppy alone in crate while at work i...</td>\n",
              "    </tr>\n",
              "    <tr>\n",
              "      <th>29</th>\n",
              "      <td>How often should I walk my Labrador?</td>\n",
              "      <td>Full of energy, Labradors need over two hours ...</td>\n",
              "    </tr>\n",
              "    <tr>\n",
              "      <th>30</th>\n",
              "      <td>How long can Labs hold their pee?</td>\n",
              "      <td>Dogs can only be relied on to hold their urine...</td>\n",
              "    </tr>\n",
              "    <tr>\n",
              "      <th>31</th>\n",
              "      <td>How can you tell if a Labrador is purebred?</td>\n",
              "      <td>There are three main methods you can use to de...</td>\n",
              "    </tr>\n",
              "    <tr>\n",
              "      <th>32</th>\n",
              "      <td>What is the smallest breed of Labrador?</td>\n",
              "      <td>Besides being smaller in size, miniature labra...</td>\n",
              "    </tr>\n",
              "    <tr>\n",
              "      <th>33</th>\n",
              "      <td>What is a Labrador and golden retriever mix ca...</td>\n",
              "      <td>Loving, devoted, and energetic, Goldador mixed...</td>\n",
              "    </tr>\n",
              "    <tr>\n",
              "      <th>34</th>\n",
              "      <td>How can I tell if my lab is mixed?</td>\n",
              "      <td>Lab Mixed Breeds The best way to tell the diff...</td>\n",
              "    </tr>\n",
              "    <tr>\n",
              "      <th>35</th>\n",
              "      <td>What is a lab hound mix called?</td>\n",
              "      <td>The Bassador is a mixed breed dog–a cross betw...</td>\n",
              "    </tr>\n",
              "    <tr>\n",
              "      <th>36</th>\n",
              "      <td>What breed of dog goes well with a Labrador?</td>\n",
              "      <td>Boston Terrier. This is one of the breeds that...</td>\n",
              "    </tr>\n",
              "  </tbody>\n",
              "</table>\n",
              "</div>"
            ],
            "text/plain": [
              "                                             question                                             answer\n",
              "0                                   What is her name?                                   Her name is Emma\n",
              "1                                What is Emma's type?                                      Emma is a Dog\n",
              "2                              What is Emma's gender?                                     Emma is Female\n",
              "3                              What is Emma's weight?                              Emma's weight is 53.3\n",
              "4                       What is Emma's date of birth?                   Emma's date of birth is 20150306\n",
              "5                               What is Emma's breed?    Emma's breed is Retriever, Yellow Labrador /Mix\n",
              "6                               What is Emma's color?                        Emma's color is Blond /None\n",
              "7                                    How old is Emma?                              Emma is 6.0 years old\n",
              "8          How big does a Labrador retriever mix get?  Males stand 22.5 to 24.5 inches, and weigh 65 ...\n",
              "9                              Are lab mix good dogs?  In fact, in most cases, mixed breed dogs, like...\n",
              "10                Does a Labrador retriever mix shed?  This mix breed dog can weigh 35 to 80 pounds a...\n",
              "11                 Are Labrador retrievers good dogs?  In general, Labrador retrievers are excellent ...\n",
              "12                 Do Labrador retrievers bark a lot?  Without plenty of physical stimulation and soc...\n",
              "13                            Do labs like to cuddle?  Yes, Labrador retrievers love to cuddle. This ...\n",
              "14           Can Labradors be left alone for 8 hours?  Dog breeds that can be left alone for 8 hours ...\n",
              "15                            Can Lab mixes be small?  If you want a small Lab mix as a family compan...\n",
              "16                    What Color Lab is the smartest?  If you follow field trial hunting dogs, you mi...\n",
              "17                   What problems do Labradors have?  The Labrador breed has a lifespan of 10 to 12 ...\n",
              "18                At what age do Labradors calm down?  Labs don't start “settling” down until sometim...\n",
              "19       Are Labrador retrievers easy to potty train?  He is intelligent and easy to train. You can b...\n",
              "20             Are Labrador retrievers easy to train?  Yes, Labs are typically easy to train. But thi...\n",
              "21                 Why you should not get a Labrador?  The health issues, so many health issues Cuten...\n",
              "22                       Are boy or girl labs better?  Males may be more attentive than females. Male...\n",
              "23                    Do Labradors bite their owners?  Labrador Retriever Bite Injuries Although very...\n",
              "24                          Do Labradors sleep a lot?  Adult Labradors will sleep for well over half ...\n",
              "25             What is bad about Labrador retrievers?  This breed is prone to hip and elbow dysplasia...\n",
              "26                        Will labs attack intruders?  A Labrador may react then aggressively to an i...\n",
              "27                            Why do Labradors stink?  Bred to work in and around water, Labradors ha...\n",
              "28          Is it cruel to crate a dog while at work?  Leaving a puppy alone in crate while at work i...\n",
              "29               How often should I walk my Labrador?  Full of energy, Labradors need over two hours ...\n",
              "30                  How long can Labs hold their pee?  Dogs can only be relied on to hold their urine...\n",
              "31        How can you tell if a Labrador is purebred?  There are three main methods you can use to de...\n",
              "32            What is the smallest breed of Labrador?  Besides being smaller in size, miniature labra...\n",
              "33  What is a Labrador and golden retriever mix ca...  Loving, devoted, and energetic, Goldador mixed...\n",
              "34                 How can I tell if my lab is mixed?  Lab Mixed Breeds The best way to tell the diff...\n",
              "35                    What is a lab hound mix called?  The Bassador is a mixed breed dog–a cross betw...\n",
              "36       What breed of dog goes well with a Labrador?  Boston Terrier. This is one of the breeds that..."
            ]
          },
          "metadata": {},
          "execution_count": 48
        }
      ]
    },
    {
      "cell_type": "code",
      "metadata": {
        "colab": {
          "base_uri": "https://localhost:8080/"
        },
        "id": "Y2Rw6SSr_PXY",
        "outputId": "79a1382c-48a8-459f-ffad-851073cd33f2"
      },
      "source": [
        "tokenizer = BertTokenizer.from_pretrained('bert-base-uncased',do_lower_case=True)\n",
        "tokens = tokenizer.batch_encode_plus(\n",
        "    dog_emma.question, \n",
        "    max_length = 512,\n",
        "    padding='max_length',\n",
        "    return_tensors=\"tf\"\n",
        ")\n",
        "model = TFBertModel.from_pretrained('bert-base-uncased')\n",
        "encoded_questions = model(tokens)[1].numpy()"
      ],
      "execution_count": null,
      "outputs": [
        {
          "output_type": "stream",
          "name": "stderr",
          "text": [
            "Some layers from the model checkpoint at bert-base-uncased were not used when initializing TFBertModel: ['mlm___cls', 'nsp___cls']\n",
            "- This IS expected if you are initializing TFBertModel from the checkpoint of a model trained on another task or with another architecture (e.g. initializing a BertForSequenceClassification model from a BertForPreTraining model).\n",
            "- This IS NOT expected if you are initializing TFBertModel from the checkpoint of a model that you expect to be exactly identical (initializing a BertForSequenceClassification model from a BertForSequenceClassification model).\n",
            "All the layers of TFBertModel were initialized from the model checkpoint at bert-base-uncased.\n",
            "If your task is similar to the task the model of the checkpoint was trained on, you can already use TFBertModel for predictions without further training.\n"
          ]
        }
      ]
    },
    {
      "cell_type": "code",
      "metadata": {
        "colab": {
          "base_uri": "https://localhost:8080/"
        },
        "id": "iy-Wt77__PZr",
        "outputId": "716e65e9-29a3-4242-ad21-640f62c2d333"
      },
      "source": [
        "print('Dimensions of hidden states: ',model(tokens)[0][0].numpy().shape)\n",
        "print('Dimensions of pooled hidden state: ',model(tokens)[1][0].numpy().shape)"
      ],
      "execution_count": null,
      "outputs": [
        {
          "output_type": "stream",
          "name": "stdout",
          "text": [
            "Dimensions of hidden states:  (512, 768)\n",
            "Dimensions of pooled hidden state:  (768,)\n"
          ]
        }
      ]
    },
    {
      "cell_type": "code",
      "metadata": {
        "colab": {
          "base_uri": "https://localhost:8080/",
          "height": 515
        },
        "id": "o8-UZ4QC_PcS",
        "outputId": "50adee85-f3d1-4977-da89-8c33873b429f"
      },
      "source": [
        "plt.subplots(figsize=(10,8))\n",
        "sns.heatmap(cosine_similarity(model(tokens)[1].numpy(),model(tokens)[1].numpy()))\n",
        "plt.title('Heatmap of cosine similarities between the questions in the database')\n",
        "plt.xlabel('Questions')\n",
        "plt.ylabel('Questions');"
      ],
      "execution_count": null,
      "outputs": [
        {
          "output_type": "display_data",
          "data": {
            "image/png": "[encoded data removed]",
            "text/plain": [
              "<Figure size 720x576 with 2 Axes>"
            ]
          },
          "metadata": {
            "needs_background": "light"
          }
        }
      ]
    },
    {
      "cell_type": "markdown",
      "metadata": {
        "id": "mCQ6YdUZpaty"
      },
      "source": [
        "### Examples"
      ]
    },
    {
      "cell_type": "code",
      "metadata": {
        "id": "-h7yAOtn_PeY"
      },
      "source": [
        "def get_answer(question, model=model, encoded_questions=encoded_questions):\n",
        "  \n",
        "    token = tokenizer.encode_plus(\n",
        "        question, \n",
        "        max_length = 512, # max length of the text that can go to BERT (<=512)\n",
        "        padding='max_length',\n",
        "        return_tensors=\"tf\"\n",
        "    )\n",
        "    encoding = model(token)[1].numpy()\n",
        "    similarity = cosine_similarity(encoding, encoded_questions, dense_output=True)\n",
        "    idx = np.argsort(similarity)[0][::-1][0:5]\n",
        "    [print('Similarity: ', similarity[0][i], '|| Q: ', \n",
        "           dog_emma.iloc[i].question, '|| A: ', \n",
        "           dog_emma.iloc[i].answer) for i in idx]"
      ],
      "execution_count": null,
      "outputs": []
    },
    {
      "cell_type": "code",
      "metadata": {
        "colab": {
          "base_uri": "https://localhost:8080/"
        },
        "id": "LWDmCS1Y_Pg8",
        "outputId": "c8fe7d4b-7486-40a3-f12d-aa0efb0dccb3"
      },
      "source": [
        "question = 'How often should I walk my Labrador?'\n",
        "get_answer(question)"
      ],
      "execution_count": null,
      "outputs": [
        {
          "output_type": "stream",
          "name": "stdout",
          "text": [
            "Similarity:  1.0 || Q:  How often should I walk my Labrador? || A:  Full of energy, Labradors need over two hours of exercise per day to keep them physically and mentally fit.\n",
            "Similarity:  0.9891799 || Q:  Are boy or girl labs better? || A:  Males may be more attentive than females. Males can be more protective of their things than females, although it is lessened with neutering. Males are more affectionate and more exuberant throughout their lifetime than females. Although both Lab boys and girls love food, males tend to be more food-motivated.\n",
            "Similarity:  0.98684025 || Q:  Does a Labrador retriever mix shed? || A:  This mix breed dog can weigh 35 to 80 pounds and doesn't need much grooming to stay clean. However, you can expect year-round shedding and heavier sheds seasonally.\n",
            "Similarity:  0.98594177 || Q:  What is a lab hound mix called? || A:  The Bassador is a mixed breed dog–a cross between the Basset Hound and the Labrador Retriever dog breeds. Loyal, sometimes stubborn, and always sniffing around, these pups inherited some of the best traits from both of their parents.\n",
            "Similarity:  0.98553497 || Q:  Do labs like to cuddle? || A:  Yes, Labrador retrievers love to cuddle. This cuddling helps them bond with their owner or family while providing them with the much-needed affection and attention they want. Their size and breed history can contrast to what we would assume of a cuddly dog, but don't let that fool you.\n"
          ]
        }
      ]
    },
    {
      "cell_type": "code",
      "metadata": {
        "colab": {
          "base_uri": "https://localhost:8080/"
        },
        "id": "niBlrPA88uNy",
        "outputId": "482a2b59-ef17-4061-84be-ad14fd778af5"
      },
      "source": [
        "question = 'How often should my lab go out for a walk?'\n",
        "get_answer(question)"
      ],
      "execution_count": null,
      "outputs": [
        {
          "output_type": "stream",
          "name": "stdout",
          "text": [
            "Similarity:  0.99525225 || Q:  How often should I walk my Labrador? || A:  Full of energy, Labradors need over two hours of exercise per day to keep them physically and mentally fit.\n",
            "Similarity:  0.992421 || Q:  Are boy or girl labs better? || A:  Males may be more attentive than females. Males can be more protective of their things than females, although it is lessened with neutering. Males are more affectionate and more exuberant throughout their lifetime than females. Although both Lab boys and girls love food, males tend to be more food-motivated.\n",
            "Similarity:  0.98719096 || Q:  What is a lab hound mix called? || A:  The Bassador is a mixed breed dog–a cross between the Basset Hound and the Labrador Retriever dog breeds. Loyal, sometimes stubborn, and always sniffing around, these pups inherited some of the best traits from both of their parents.\n",
            "Similarity:  0.98513293 || Q:  Does a Labrador retriever mix shed? || A:  This mix breed dog can weigh 35 to 80 pounds and doesn't need much grooming to stay clean. However, you can expect year-round shedding and heavier sheds seasonally.\n",
            "Similarity:  0.9843643 || Q:  Do labs like to cuddle? || A:  Yes, Labrador retrievers love to cuddle. This cuddling helps them bond with their owner or family while providing them with the much-needed affection and attention they want. Their size and breed history can contrast to what we would assume of a cuddly dog, but don't let that fool you.\n"
          ]
        }
      ]
    },
    {
      "cell_type": "code",
      "metadata": {
        "colab": {
          "base_uri": "https://localhost:8080/"
        },
        "id": "T-1-eaPy8uQZ",
        "outputId": "83691421-5388-42c6-f1de-2f75ecf0261f"
      },
      "source": [
        "question = 'Are labradors violent?'\n",
        "get_answer(question)\n"
      ],
      "execution_count": null,
      "outputs": [
        {
          "output_type": "stream",
          "name": "stdout",
          "text": [
            "Similarity:  0.9968158 || Q:  What problems do Labradors have? || A:  The Labrador breed has a lifespan of 10 to 12 years. Some of the general health conditions that afflict Labradors are patellar luxation, canine hip dysplasia (CHD), and osteochondritis dissecans (OCD), which is canine elbow and shoulder dysplasia.\n",
            "Similarity:  0.99472547 || Q:  What is Emma's color? || A:  Emma's color is Blond /None\n",
            "Similarity:  0.994594 || Q:  What is her name? || A:  Her name is Emma\n",
            "Similarity:  0.99427354 || Q:  Why you should not get a Labrador? || A:  The health issues, so many health issues Cuteness is in their genes and so are many other disorders. Labs are very prone to genetic problems such as hip dysplasia, osteochondritis dissecans (OCD), heart problems, and many more. Not only is this painful for the dog, but it is also painful for the owner.\n",
            "Similarity:  0.99418604 || Q:  Will labs attack intruders? || A:  A Labrador may react then aggressively to an intruder either because some protective instincts within them have been triggered, or because they are frightened. However, aggression should always be a dog's last resort.\n"
          ]
        }
      ]
    },
    {
      "cell_type": "markdown",
      "metadata": {
        "id": "KYwVvESbrBaU"
      },
      "source": [
        "### BERT Question-Answering Model"
      ]
    },
    {
      "cell_type": "code",
      "metadata": {
        "colab": {
          "base_uri": "https://localhost:8080/"
        },
        "id": "Q6aDUG1Qqyaq",
        "outputId": "9161300f-6c68-4400-a115-b4f9b2a12698"
      },
      "source": [
        "# Load fine-tuned BERT large\n",
        "model = TFBertForQuestionAnswering.from_pretrained('bert-large-uncased-whole-word-masking-finetuned-squad')\n",
        "tokenizer = BertTokenizer.from_pretrained('bert-large-uncased-whole-word-masking-finetuned-squad')"
      ],
      "execution_count": null,
      "outputs": [
        {
          "output_type": "stream",
          "name": "stderr",
          "text": [
            "All model checkpoint layers were used when initializing TFBertForQuestionAnswering.\n",
            "\n",
            "All the layers of TFBertForQuestionAnswering were initialized from the model checkpoint at bert-large-uncased-whole-word-masking-finetuned-squad.\n",
            "If your task is similar to the task the model of the checkpoint was trained on, you can already use TFBertForQuestionAnswering for predictions without further training.\n"
          ]
        }
      ]
    },
    {
      "cell_type": "code",
      "metadata": {
        "id": "0cy9FlN_qydV"
      },
      "source": [
        "dogs_persona = pd.DataFrame(columns=['AnimalInternal-ID', 'persona1', 'persona2'])\n",
        "dogs_persona['AnimalInternal-ID'] = dogs['AnimalInternal-ID']\n",
        "\n",
        "personality = [\n",
        " ['Her name is {}'.format(name),\n",
        "  '{} is a {}'.format(name, a_type),\n",
        "  '{} is {}'.format(name, a_sex),\n",
        "  '{}\\'s weight is {}'.format(name, weight),\n",
        "  '{}\\'s date of birth is {}'.format(name, dob),\n",
        "  '{}\\'s breed is {}'.format(name, breed),\n",
        "  '{}\\'s color is {}'.format(name, color),\n",
        "  '{} is {} years old'.format(name, int(age))\n",
        "  ]\n",
        "\n",
        "  if a_sex=='Female'\n",
        "\n",
        "  else\n",
        "\n",
        "  ['His name is {}'.format(name),\n",
        "  '{} is a {}'.format(name, a_type),\n",
        "  '{} is {}'.format(name, a_sex),\n",
        "  '{}\\'s weight is {}'.format(name, weight),\n",
        "  '{}\\'s date of birth is {}'.format(name, dob),\n",
        "  '{}\\'s breed is {}'.format(name, breed),\n",
        "  '{}\\'s color is {}'.format(name, color),\n",
        "  '{} is {} years old'.format(name, int(age))\n",
        "  ]\n",
        "\n",
        "  for name, a_type, a_sex, weight, dob, breed, color, age in \n",
        "      zip(dogs.AnimalName, \n",
        "          dogs.AnimalType, \n",
        "          dogs.AnimalSex, \n",
        "          dogs.AnimalCurrentWeightPounds,\n",
        "          dogs.AnimalDOB,\n",
        "          dogs.AnimalBreed,\n",
        "          dogs.AnimalColor,\n",
        "          dogs.Age)\n",
        "]\n",
        "\n",
        "dogs_persona['persona1'] = personality\n",
        "dogs_website_memos['AnimalInternal-ID'] = dogs_website_memos['AnimalInternal-ID'].astype('int')\n",
        "#display(dogs_website_memos.groupby('AnimalInternal-ID').count().hist())\n",
        "dogs_persona = dogs_persona.merge(dogs_website_memos.groupby('AnimalInternal-ID').first(),\n",
        "                                  how='left', \n",
        "                                  on='AnimalInternal-ID')\n",
        "\n",
        "no_memo = ~dogs_persona.MemoText.isna()\n",
        "dogs_persona.loc[no_memo, 'persona2'] = dogs_persona.MemoText[no_memo].apply(lambda x: re.split('(?<=[.!?]) +',x))\n",
        "dogs_persona = dogs_persona.drop(columns='MemoText').dropna()"
      ],
      "execution_count": null,
      "outputs": []
    },
    {
      "cell_type": "code",
      "metadata": {
        "colab": {
          "base_uri": "https://localhost:8080/",
          "height": 202
        },
        "id": "KRt9-UkYqygC",
        "outputId": "8ebeb402-9177-4d70-e971-60f1f1c77b18"
      },
      "source": [
        "dogs_persona.head()"
      ],
      "execution_count": null,
      "outputs": [
        {
          "output_type": "execute_result",
          "data": {
            "text/html": [
              "<div>\n",
              "<style scoped>\n",
              "    .dataframe tbody tr th:only-of-type {\n",
              "        vertical-align: middle;\n",
              "    }\n",
              "\n",
              "    .dataframe tbody tr th {\n",
              "        vertical-align: top;\n",
              "    }\n",
              "\n",
              "    .dataframe thead th {\n",
              "        text-align: right;\n",
              "    }\n",
              "</style>\n",
              "<table border=\"1\" class=\"dataframe\">\n",
              "  <thead>\n",
              "    <tr style=\"text-align: right;\">\n",
              "      <th></th>\n",
              "      <th>AnimalInternal-ID</th>\n",
              "      <th>persona1</th>\n",
              "      <th>persona2</th>\n",
              "    </tr>\n",
              "  </thead>\n",
              "  <tbody>\n",
              "    <tr>\n",
              "      <th>0</th>\n",
              "      <td>1444011</td>\n",
              "      <td>[Her name is Emma, Emma is a Dog, Emma is Fema...</td>\n",
              "      <td>[Emma is a blonde princess who definitely like...</td>\n",
              "    </tr>\n",
              "    <tr>\n",
              "      <th>7</th>\n",
              "      <td>1444414</td>\n",
              "      <td>[His name is Zydeco, Zydeco is a Dog, Zydeco i...</td>\n",
              "      <td>[Zydeco is an athletic, energetic, fun-loving ...</td>\n",
              "    </tr>\n",
              "    <tr>\n",
              "      <th>11</th>\n",
              "      <td>1445198</td>\n",
              "      <td>[Her name is Meadow, Meadow is a Dog, Meadow i...</td>\n",
              "      <td>[Meadow is a super sweet young dog who loves t...</td>\n",
              "    </tr>\n",
              "    <tr>\n",
              "      <th>12</th>\n",
              "      <td>1445280</td>\n",
              "      <td>[Her name is Kit Kat, Kit Kat is a Dog, Kit Ka...</td>\n",
              "      <td>[If Kit Kat's shiny red coat and perfectly man...</td>\n",
              "    </tr>\n",
              "    <tr>\n",
              "      <th>14</th>\n",
              "      <td>1445310</td>\n",
              "      <td>[Her name is Frida, Frida is a Dog, Frida is F...</td>\n",
              "      <td>[If you are looking for a sweet girl who wants...</td>\n",
              "    </tr>\n",
              "  </tbody>\n",
              "</table>\n",
              "</div>"
            ],
            "text/plain": [
              "    AnimalInternal-ID  ...                                           persona2\n",
              "0             1444011  ...  [Emma is a blonde princess who definitely like...\n",
              "7             1444414  ...  [Zydeco is an athletic, energetic, fun-loving ...\n",
              "11            1445198  ...  [Meadow is a super sweet young dog who loves t...\n",
              "12            1445280  ...  [If Kit Kat's shiny red coat and perfectly man...\n",
              "14            1445310  ...  [If you are looking for a sweet girl who wants...\n",
              "\n",
              "[5 rows x 3 columns]"
            ]
          },
          "metadata": {},
          "execution_count": 58
        }
      ]
    },
    {
      "cell_type": "code",
      "metadata": {
        "colab": {
          "base_uri": "https://localhost:8080/",
          "height": 427
        },
        "id": "QXJrdMHJqyi3",
        "outputId": "10aefc49-604a-4776-8060-db9ab5440559"
      },
      "source": [
        "display(dogs_persona.persona1[7])\n",
        "display(dogs_persona.persona2[7])"
      ],
      "execution_count": null,
      "outputs": [
        {
          "output_type": "display_data",
          "data": {
            "text/plain": [
              "['His name is Zydeco',\n",
              " 'Zydeco is a Dog',\n",
              " 'Zydeco is Male',\n",
              " \"Zydeco's weight is 51.0\",\n",
              " \"Zydeco's date of birth is 20150630\",\n",
              " \"Zydeco's breed is Mixed Breed (Large)\",\n",
              " \"Zydeco's color is Brown/White\",\n",
              " 'Zydeco is 6 years old']"
            ]
          },
          "metadata": {}
        },
        {
          "output_type": "display_data",
          "data": {
            "text/plain": [
              "['Zydeco is an athletic, energetic, fun-loving pal who would make the perfect jogging buddy!',\n",
              " 'This smart, eager-to-please guy does very well on walks and runs and is incredibly alert to his surroundings.',\n",
              " \"If he had his way, he'd catch every bird and squirrel he sees, and is thrilled to sniff around in the great outdoors!\",\n",
              " \"If you ask him if he wants to go for a run, he'll eagerly answer yes with sweet affectionate kisses!Zydeco  adores his people, and is very affectionate with his friends at the shelter.\",\n",
              " \"It's a very rewarding feeling to win his love!\",\n",
              " 'He really is the epitome of the ultimate loyal best friend.',\n",
              " \"Zydeco also enjoys learning new things and is in APA!'s Total Obedience Program.\",\n",
              " \"The Total Obedience Program (TOP) is modeled after the AKC's Canine Good Citizen (CGC) test.\",\n",
              " 'As a TOP dog, Zydeco has a personalized training plan and works with a volunteer trainer several times a week to help him learn the skills to become the best dog he can be!',\n",
              " 'Zydeco is learning skills like sit and down, walking nicely on leash, sitting calmly when approached by strangers or other dogs, staying in a sit or down until told free, and coming when called.',\n",
              " 'Once Zydeco successfully completes all the skills on his training plan, he will be considered TOP Dog Ready!',\n",
              " \"Zydeco is working hard to become a wonderful companion, and as a part of APA's Total Obedience Program you can work with APA staff to continue to build a training relationship with Zydeco after adoption and master all the TOP dog skills together.\",\n",
              " \"Check out a video on APA's CGC program, on which the TOP was based: https://vimeo.com/89434193Zydeco has so much love to give his perfect family, and can't wait to cover them in kisses!\",\n",
              " 'Come meet this sweet, playful muscle man!\"']"
            ]
          },
          "metadata": {}
        }
      ]
    },
    {
      "cell_type": "code",
      "metadata": {
        "colab": {
          "base_uri": "https://localhost:8080/"
        },
        "id": "Vg-syEXgvws_",
        "outputId": "ad2e99d9-645d-40e1-df1d-21e9fc2b2d32"
      },
      "source": [
        "emma_string = '. '.join(dogs_persona.persona1[0]) + '. ' + '. '.join(dogs_persona.persona2[0])\n",
        "\n",
        "print(wrapper.fill(emma_string))"
      ],
      "execution_count": null,
      "outputs": [
        {
          "output_type": "stream",
          "name": "stdout",
          "text": [
            "Her name is Emma. Emma is a Dog. Emma is Female. Emma's weight is 53.3. Emma's\n",
            "date of birth is 20150306. Emma's breed is Retriever, Yellow Labrador /Mix.\n",
            "Emma's color is Blond /None. Emma is 6 years old. Emma is a blonde princess who\n",
            "definitely likes the finer things in life - like kisses and hugs from her\n",
            "humans.. She is so happy to be alive and even happier when her hair can be\n",
            "flying out a car window!This very affectionate, funny girl, now in foster care,\n",
            "always wants to start her day by getting those hugs and kisses from her person..\n",
            "And then she's ready for a day of playing with her brother and her foster dog\n",
            "buddy and playing fetch and tug-o-war.When playtime is done, Emma is also ready\n",
            "for her schooling.. This spontaneous girl is a fast learner who already answers\n",
            "to the Come, Stop, No commands and is working on Sit, Stay and Place.. She's\n",
            "crate trained, house trained and is always happy to match her person's activity\n",
            "level - up for a morning jog, then hanging out on the couch.. And she's sure\n",
            "she's the best smeller in the world - bloodhounds and police dogs have nothing\n",
            "on her!Emma is a spirited, eager-to-please girl who's perfect for a family who\n",
            "wants a companion on those walks and a co-pilot for those drives in the car..\n",
            "Come take her for a walk and see if she's perfect for your home.\"\n"
          ]
        }
      ]
    },
    {
      "cell_type": "code",
      "metadata": {
        "id": "2fhBWvnlqylq"
      },
      "source": [
        "def answer_question(question, answer_text, return_scores=False):\n",
        "    '''\n",
        "    Takes a `question` string and an `answer_text` string (which contains the\n",
        "    answer), and identifies the words within the `answer_text` that are the\n",
        "    answer. Prints them out.\n",
        "    If return_scores is True, returns:\n",
        "    tokens: tokens from BERT tokenizer,\n",
        "    start_scores: Logits for each token for `start` classification\n",
        "    end_scores: Logits for each token for `end` classification\n",
        "    \n",
        "    Code adapted from:\n",
        "    https://mccormickml.com/2020/03/10/question-answering-with-a-fine-tuned-BERT/\n",
        "    '''\n",
        "    # ======== Tokenize ========\n",
        "    # Apply the tokenizer to the input text, treating them as a text-pair.\n",
        "    input_ids = tokenizer.encode(question, answer_text)\n",
        "\n",
        "    # Report how long the input sequence is.\n",
        "    print('Query has {:,} tokens.\\n'.format(len(input_ids)))\n",
        "\n",
        "    # ======== Set Segment IDs ========\n",
        "    # Search the input_ids for the first instance of the `[SEP]` token.\n",
        "    sep_index = input_ids.index(tokenizer.sep_token_id)\n",
        "\n",
        "    # The number of segment A tokens includes the [SEP] token istelf.\n",
        "    num_seg_a = sep_index + 1\n",
        "\n",
        "    # The remainder are segment B.\n",
        "    num_seg_b = len(input_ids) - num_seg_a\n",
        "\n",
        "    # Construct the list of 0s and 1s.\n",
        "    segment_ids = [0]*num_seg_a + [1]*num_seg_b\n",
        "\n",
        "    # There should be a segment_id for every input token.\n",
        "    assert len(segment_ids) == len(input_ids)\n",
        "\n",
        "    # ======== Evaluate ========\n",
        "    # Run our example question through the model.\n",
        "    model_result = model(tf.convert_to_tensor([input_ids]), # The tokens representing our input text.\n",
        "                        token_type_ids=tf.convert_to_tensor([segment_ids])) # The segment IDs to differentiate question from answer_text\n",
        "    start_scores, end_scores = model_result[0][0], model_result[1][0]\n",
        "\n",
        "    # ======== Reconstruct Answer ========\n",
        "    # Find the tokens with the highest `start` and `end` scores.\n",
        "    answer_start = tf.argmax(start_scores)\n",
        "    answer_end = tf.argmax(end_scores)\n",
        "\n",
        "    # Get the string versions of the input tokens.\n",
        "    tokens = tokenizer.convert_ids_to_tokens(input_ids)\n",
        "\n",
        "    # Start with the first token.\n",
        "    answer = tokens[answer_start]\n",
        "\n",
        "    # Select the remaining answer tokens and join them with whitespace.\n",
        "    for i in range(answer_start + 1, answer_end + 1):\n",
        "        \n",
        "        # If it's a subword token, then recombine it with the previous token.\n",
        "        if tokens[i][0:2] == '##':\n",
        "            answer += tokens[i][2:]\n",
        "        \n",
        "        # Otherwise, add a space then the token.\n",
        "        else:\n",
        "            answer += ' ' + tokens[i]\n",
        "\n",
        "    print('Answer: \"' + answer + '\"')\n",
        "\n",
        "    if return_scores:\n",
        "        return tokens, start_scores.numpy(), end_scores.numpy()"
      ],
      "execution_count": null,
      "outputs": []
    },
    {
      "cell_type": "markdown",
      "metadata": {
        "id": "GR7XBtl2wYVo"
      },
      "source": [
        "### Examples"
      ]
    },
    {
      "cell_type": "code",
      "metadata": {
        "colab": {
          "base_uri": "https://localhost:8080/"
        },
        "id": "CcmbepBqqyoC",
        "outputId": "ceaa70d6-604d-4c5f-9b43-fa5baef56d04"
      },
      "source": [
        "question = \"What's the dogs name?\"\n",
        "\n",
        "answer_question(question, emma_string)"
      ],
      "execution_count": null,
      "outputs": [
        {
          "output_type": "stream",
          "name": "stdout",
          "text": [
            "Query has 340 tokens.\n",
            "\n",
            "Answer: \"emma\"\n"
          ]
        }
      ]
    },
    {
      "cell_type": "markdown",
      "metadata": {
        "id": "toBv-1nxwqRL"
      },
      "source": [
        "### Look at the probabilities of the start and end tokens"
      ]
    },
    {
      "cell_type": "code",
      "metadata": {
        "colab": {
          "base_uri": "https://localhost:8080/"
        },
        "id": "VLm_k-yrqyrL",
        "outputId": "ccda4bb5-cca0-4d9e-8c67-4364a931b1d5"
      },
      "source": [
        "question = \"What's Emma's breed?\"\n",
        "tokens, start_scores, end_scores = answer_question(question, emma_string, return_scores=True)"
      ],
      "execution_count": null,
      "outputs": [
        {
          "output_type": "stream",
          "name": "stdout",
          "text": [
            "Query has 341 tokens.\n",
            "\n",
            "Answer: \"retriever , yellow labrador / mix\"\n"
          ]
        }
      ]
    },
    {
      "cell_type": "code",
      "metadata": {
        "colab": {
          "base_uri": "https://localhost:8080/"
        },
        "id": "yLEavt_P-ts6",
        "outputId": "73e4e773-394c-49d3-f0ae-83a3dc469628"
      },
      "source": [
        "question = \"What's Emma's date of birth?\"\n",
        "\n",
        "answer_question(question, emma_string)"
      ],
      "execution_count": null,
      "outputs": [
        {
          "output_type": "stream",
          "name": "stdout",
          "text": [
            "Query has 343 tokens.\n",
            "\n",
            "Answer: \"20150306\"\n"
          ]
        }
      ]
    },
    {
      "cell_type": "code",
      "metadata": {
        "colab": {
          "base_uri": "https://localhost:8080/"
        },
        "id": "RCFgEeIp-t5Q",
        "outputId": "156bc83b-eccc-44a8-e591-38f73be26e03"
      },
      "source": [
        "question = \"How old is Emma?\"\n",
        "\n",
        "answer_question(question, emma_string)"
      ],
      "execution_count": null,
      "outputs": [
        {
          "output_type": "stream",
          "name": "stdout",
          "text": [
            "Query has 338 tokens.\n",
            "\n",
            "Answer: \"6 years old\"\n"
          ]
        }
      ]
    },
    {
      "cell_type": "code",
      "metadata": {
        "colab": {
          "base_uri": "https://localhost:8080/"
        },
        "id": "2P4V8q3Xqytl",
        "outputId": "9492cd42-f0f4-4dc0-86bd-feb2e3627d65"
      },
      "source": [
        "question = \"What's Emma's breed?\"\n",
        "tokens, start_scores, end_scores = answer_question(question, emma_string, return_scores=True)\n",
        "\n",
        "token_labels = []\n",
        "for (i, token) in enumerate(tokens):\n",
        "    token_labels.append('{:} - {:>2}'.format(token, i))\n",
        "\n",
        "# Turn on the vertical grid to help align words to scores.\n",
        "plt.subplots(figsize=(18,8))\n",
        "\n",
        "ax = sns.barplot(x=token_labels[0:100], y=start_scores[0:100], ci=None)\n",
        "\n",
        "# Turn the xlabels vertical.\n",
        "ax.set_xticklabels(ax.get_xticklabels(), rotation=90, ha=\"center\")\n",
        "\n",
        "ax.grid(True)\n",
        "\n",
        "plt.title('Start Word Scores')\n",
        "plt.ylabel('logits')\n",
        "\n",
        "plt.savefig(\"./figure3_i\")\n",
        "#plt.show()"
      ],
      "execution_count": null,
      "outputs": [
        {
          "output_type": "stream",
          "name": "stdout",
          "text": [
            "Query has 341 tokens.\n",
            "\n",
            "Answer: \"retriever , yellow labrador / mix\"\n"
          ]
        },
        {
          "output_type": "display_data",
          "data": {
            "image/png": "[encoded data removed]",
            "text/plain": [
              "<Figure size 1296x576 with 1 Axes>"
            ]
          },
          "metadata": {
            "needs_background": "light"
          }
        }
      ]
    },
    {
      "cell_type": "code",
      "metadata": {
        "colab": {
          "base_uri": "https://localhost:8080/"
        },
        "id": "WHyMdGOaqywT",
        "outputId": "ab29beb6-0de6-40cd-bd90-2f0908f7ad6f"
      },
      "source": [
        "token_labels = []\n",
        "for (i, token) in enumerate(tokens):\n",
        "    token_labels.append('{:} - {:>2}'.format(token, i))\n",
        "\n",
        "# Turn on the vertical grid to help align words to scores.\n",
        "plt.subplots(figsize=(18,8))\n",
        "\n",
        "ax = sns.barplot(x=token_labels[0:100], y=end_scores[0:100], ci=None)\n",
        "\n",
        "# Turn the xlabels vertical.\n",
        "ax.set_xticklabels(ax.get_xticklabels(), rotation=90, ha=\"center\")\n",
        "\n",
        "ax.grid(True)\n",
        "\n",
        "plt.title('End Word Scores')\n",
        "plt.ylabel('logits')\n",
        "plt.savefig(\"./figure3_ii\")\n",
        "#plt.show()"
      ],
      "execution_count": null,
      "outputs": [
        {
          "output_type": "display_data",
          "data": {
            "image/png": "[encoded data removed]",
            "text/plain": [
              "<Figure size 1296x576 with 1 Axes>"
            ]
          },
          "metadata": {
            "needs_background": "light"
          }
        }
      ]
    },
    {
      "cell_type": "code",
      "metadata": {
        "id": "SevhnafeqyzB"
      },
      "source": [
        ""
      ],
      "execution_count": null,
      "outputs": []
    },
    {
      "cell_type": "code",
      "metadata": {
        "id": "CuOILieVqy1u"
      },
      "source": [
        ""
      ],
      "execution_count": null,
      "outputs": []
    },
    {
      "cell_type": "code",
      "metadata": {
        "id": "N34VRdK-qy4m"
      },
      "source": [
        ""
      ],
      "execution_count": null,
      "outputs": []
    },
    {
      "cell_type": "code",
      "metadata": {
        "id": "DetI_WiMqy7U"
      },
      "source": [
        ""
      ],
      "execution_count": null,
      "outputs": []
    },
    {
      "cell_type": "code",
      "metadata": {
        "id": "h08A-hAs8uS-"
      },
      "source": [
        ""
      ],
      "execution_count": null,
      "outputs": []
    }
  ]
}